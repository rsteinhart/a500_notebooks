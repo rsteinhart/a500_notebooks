{
 "cells": [
  {
   "cell_type": "markdown",
   "metadata": {},
   "source": [
    "1 column moist conceptual model"
   ]
  },
  {
   "cell_type": "code",
   "execution_count": 7,
   "metadata": {},
   "outputs": [],
   "source": [
    "#\n",
    "# Input paramters\n",
    "#\n",
    "Q_bl = [-1.0, -2.0, -3.0, -4.0, -5.0, -6.0] #K day^-1\n",
    "Q_ft = -1.0 #K day^-1\n",
    "Gamma = 5.0 #K km^-1\n",
    "theta_0 = 298 #K\n",
    "theta_sfc = 301 #K\n",
    "A = 0.41\n",
    "Cd = 0.001\n",
    "V = 5 #m/s\n",
    "tau = 15 #min\n",
    "epsilon = 0.61"
   ]
  },
  {
   "cell_type": "markdown",
   "metadata": {},
   "source": [
    "Temperature profile at the boundary layer:\n",
    "\n",
    "$$\\frac{\\delta\\theta_{BL}}{\\delta\\ t} = \\ Q_{BL} + \\frac{1}{h}*(\\ w_{e}\\Delta\\theta +\\ F_{\\theta}) $$\n",
    "\n",
    "\n",
    "Moisture flux at the boundary layer:\n",
    "\n",
    "$$ \\frac{\\delta\\ q_{BL}}{\\delta\\ t} = \\frac{1}{h}*(\\ w_{e}\\Delta\\ q +\\ F_{q}) $$\n",
    "\n",
    "Change in BL height:\n",
    "\n",
    "$$ \\frac{h}{\\delta\\ t} = \\ w_{FT} + \\ w_e + \\ w_m $$"
   ]
  },
  {
   "cell_type": "code",
   "execution_count": 9,
   "metadata": {},
   "outputs": [
    {
     "ename": "NameError",
     "evalue": "name 'F_theta' is not defined",
     "output_type": "error",
     "traceback": [
      "\u001b[1;31m---------------------------------------------------------------------------\u001b[0m",
      "\u001b[1;31mNameError\u001b[0m                                 Traceback (most recent call last)",
      "\u001b[1;32m<ipython-input-9-c1dfe2306bf1>\u001b[0m in \u001b[0;36m<module>\u001b[1;34m\u001b[0m\n\u001b[0;32m      1\u001b[0m \u001b[0mh\u001b[0m \u001b[1;33m=\u001b[0m \u001b[1;36m400\u001b[0m \u001b[1;31m#height of BL [m]\u001b[0m\u001b[1;33m\u001b[0m\u001b[1;33m\u001b[0m\u001b[0m\n\u001b[1;32m----> 2\u001b[1;33m \u001b[0mF_b\u001b[0m \u001b[1;33m=\u001b[0m \u001b[0mF_theta\u001b[0m \u001b[1;33m+\u001b[0m \u001b[0mepsilon\u001b[0m\u001b[1;33m*\u001b[0m\u001b[0mtheta_bl\u001b[0m\u001b[1;33m*\u001b[0m\u001b[0mF_q\u001b[0m\u001b[1;33m\u001b[0m\u001b[1;33m\u001b[0m\u001b[0m\n\u001b[0m\u001b[0;32m      3\u001b[0m \u001b[0mw_e\u001b[0m \u001b[1;33m=\u001b[0m \u001b[0mA\u001b[0m\u001b[1;33m*\u001b[0m\u001b[0mF_b\u001b[0m\u001b[1;33m/\u001b[0m\u001b[0mdelta_theta_v\u001b[0m \u001b[1;31m#entrainment velocity\u001b[0m\u001b[1;33m\u001b[0m\u001b[1;33m\u001b[0m\u001b[0m\n\u001b[0;32m      4\u001b[0m \u001b[1;33m\u001b[0m\u001b[0m\n\u001b[0;32m      5\u001b[0m \u001b[0mF_0\u001b[0m \u001b[1;33m=\u001b[0m \u001b[0mCd\u001b[0m\u001b[1;33m*\u001b[0m\u001b[0mV\u001b[0m\u001b[1;33m*\u001b[0m\u001b[1;33m(\u001b[0m\u001b[0mtheta_sfc\u001b[0m \u001b[1;33m-\u001b[0m \u001b[0mtheta_bl\u001b[0m\u001b[1;33m)\u001b[0m\u001b[1;33m\u001b[0m\u001b[1;33m\u001b[0m\u001b[0m\n",
      "\u001b[1;31mNameError\u001b[0m: name 'F_theta' is not defined"
     ]
    }
   ],
   "source": [
    "h = 400 #height of BL [m]\n",
    "theta_sfc = 302 #K\n",
    "w_e = A*F_b/delta_theta_v #entrainment velocity\n",
    "w_ft = Q_ft/Gamma\n",
    "if LCL<h:\n",
    "    w_m = -(h-LCL)/tau\n",
    "    else:\n",
    "        w_m = 0\n",
    "\n",
    "F_0 = Cd*V*(theta_sfc - theta_bl)\n",
    "delta_theta = theta_0 + Gamma*h - theta_bl\n",
    "d_theta_bl_dt = Q_bl + (1/h)*(w_e*delta_theta + F_theta)\n",
    "\n",
    "dq_bl_dt = (1/h)*(w_e*delta_q + F_q)\n",
    "#delta_q = q_FT - q_BL\n",
    "delta_q = 3 #g/kg for q_bl >=3 g/kg\n",
    "F_q = Cd*V(q_sfc - q_bl)\n",
    "\n",
    "dh_dt =  w_ft + w_e + w_m\n",
    "delta_theta_v = (theta_0 + Gamma*h)*(1+ epsilon*q_ft) - theta_v_bl\n",
    "F_b = F_theta + epsilon*theta_bl*F_q\n"
   ]
  },
  {
   "cell_type": "code",
   "execution_count": null,
   "metadata": {},
   "outputs": [],
   "source": []
  }
 ],
 "metadata": {
  "kernelspec": {
   "display_name": "Python 3",
   "language": "python",
   "name": "python3"
  },
  "language_info": {
   "codemirror_mode": {
    "name": "ipython",
    "version": 3
   },
   "file_extension": ".py",
   "mimetype": "text/x-python",
   "name": "python",
   "nbconvert_exporter": "python",
   "pygments_lexer": "ipython3",
   "version": "3.7.3"
  }
 },
 "nbformat": 4,
 "nbformat_minor": 2
}
